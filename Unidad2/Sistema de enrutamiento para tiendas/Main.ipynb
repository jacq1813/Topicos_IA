{
 "cells": [
  {
   "cell_type": "markdown",
   "id": "a167cccb",
   "metadata": {},
   "source": [
    "## Pasos para la implementacion y uso del algoritmo Recocido Simulado para VRP"
   ]
  },
  {
   "cell_type": "markdown",
   "id": "d49257c7",
   "metadata": {},
   "source": [
    "### Paso 1: Representacion de Datos con Pandas\n",
    "\n",
    "El primer paso es cargar y organizar los datos para que el algoritmo pueda acceder a ellos de manera eficiente\n",
    "\n",
    "Elementos a extraer:\n",
    "- datos_distribucion_tiendas.xlsx (Nodos: 10 CD y 90 Tiendas) (Lista de Nodos/Clientes con sus atributos. Demanda y Capacidad).\n",
    "- matriz_distancias.xlsx (Distancia entre cada par de nodos) (Matriz NxN de Distancias que serian sus costos).\n",
    "- matriz_costos_combustible.xlsx (Costos de combustible entre cada par de nodos) (Matriz NxN de Costos de Combustible que serian sus costos)."
   ]
  },
  {
   "cell_type": "code",
   "execution_count": 3,
   "id": "ad442dd4",
   "metadata": {},
   "outputs": [],
   "source": [
    "import numpy as np\n",
    "import pandas as pd\n",
    "import random\n",
    "import math\n",
    "\n",
    "df_nodos = pd.read_excel(\"./Datos/datos_distribucion_tiendas.xlsx\")\n",
    "df_distancias = pd.read_excel(\"./Datos/matriz_distancias.xlsx\")\n",
    "df_costos = pd.read_excel(\"./Datos/matriz_costos_combustible.xlsx\")"
   ]
  },
  {
   "cell_type": "markdown",
   "id": "049ef837",
   "metadata": {},
   "source": [
    "### 1.1 Identificación de Nodos"
   ]
  },
  {
   "cell_type": "code",
   "execution_count": 4,
   "id": "3797503d",
   "metadata": {},
   "outputs": [],
   "source": [
    "# 1.1. Identificación de Nodos\n",
    "N_NODOS = len(df_nodos) # 10 CDs + 90 Tiendas = 100\n",
    "CD_INDICES = list(range(10)) # Nodos 0 a 9\n",
    "TIENDA_INDICES = list(range(10, N_NODOS)) # Nodos 10 a 99\n",
    "\n",
    "# 1.2. Matriz de Costo Total y Matriz de Distancia\n",
    "# Las matrices en CSV contienen una columna de índice y 100 columnas de datos.\n",
    "columnas_datos = [f'Nodo_{i}' for i in range(1, N_NODOS + 1)]\n",
    "\n",
    "# MATRIZ_COSTO_TOTAL: Costo es directo de la matriz de combustible\n",
    "matriz_costos_combustible = df_costos[columnas_datos].values\n",
    "MATRIZ_COSTO_TOTAL = matriz_costos_combustible"
   ]
  },
  {
   "cell_type": "markdown",
   "id": "9190e473",
   "metadata": {},
   "source": [
    "## Paso 2: Estructura de la Solución y Función de Objetivo"
   ]
  },
  {
   "cell_type": "code",
   "execution_count": 5,
   "id": "b6da3a2a",
   "metadata": {},
   "outputs": [],
   "source": [
    "\n",
    "def calcular_costo_solucion(solucion):\n",
    "    \"\"\"\n",
    "    Calcula el costo total de la solución sumando los costos de todos los segmentos de ruta.\n",
    "    \"\"\"\n",
    "    costo_total = 0.0\n",
    "    \n",
    "    for ruta in solucion:\n",
    "        if len(ruta) < 2:\n",
    "            continue\n",
    "\n",
    "        # Sumar costos de cada segmento (i, j) en la ruta\n",
    "        for i in range(len(ruta) - 1):\n",
    "            nodo_inicio = ruta[i]\n",
    "            nodo_fin = ruta[i+1]\n",
    "            costo_total += MATRIZ_COSTO_TOTAL[nodo_inicio, nodo_fin]\n",
    "            \n",
    "    return costo_total"
   ]
  },
  {
   "cell_type": "markdown",
   "id": "29f462ca",
   "metadata": {},
   "source": [
    "## Paso 3: Componentes del Recocido Simulado"
   ]
  },
  {
   "cell_type": "markdown",
   "id": "98458b79",
   "metadata": {},
   "source": [
    "### 3.1 Generar solución inicial"
   ]
  },
  {
   "cell_type": "code",
   "execution_count": 6,
   "id": "9447a8cf",
   "metadata": {},
   "outputs": [],
   "source": [
    "def generar_solucion_inicial():\n",
    "    \"\"\"\n",
    "    Genera una solución inicial aleatoria: asigna todas las tiendas a un CD aleatorio\n",
    "    y luego secuencia las tiendas aleatoriamente dentro de cada ruta.\n",
    "    \"\"\"\n",
    "    solucion = [[cd] for cd in CD_INDICES]  # Inicializa una ruta con cada CD\n",
    "    tiendas_a_asignar = TIENDA_INDICES[:]\n",
    "    random.shuffle(tiendas_a_asignar)\n",
    "    \n",
    "    # Asignación aleatoria de tiendas a CDs\n",
    "    for tienda in tiendas_a_asignar:\n",
    "        cd_idx = random.choice(CD_INDICES)\n",
    "        solucion[cd_idx].append(tienda)\n",
    "        \n",
    "    # Completar las rutas, añadiendo el CD de regreso al final\n",
    "    for i in range(len(solucion)):\n",
    "        if len(solucion[i]) > 0:\n",
    "            solucion[i].append(solucion[i][0])\n",
    "            \n",
    "    # Barajar el orden de las tiendas dentro de cada ruta (secuenciación TSP aleatoria)\n",
    "    for ruta in solucion:\n",
    "        if len(ruta) > 2:\n",
    "            tiendas_ruta = ruta[1:-1]\n",
    "            random.shuffle(tiendas_ruta)\n",
    "            ruta[1:-1] = tiendas_ruta\n",
    "            \n",
    "    return solucion"
   ]
  },
  {
   "cell_type": "markdown",
   "id": "adaa0b2a",
   "metadata": {},
   "source": [
    "### 3.2 Función de vecindad"
   ]
  },
  {
   "cell_type": "code",
   "execution_count": 7,
   "id": "55376bb6",
   "metadata": {},
   "outputs": [],
   "source": [
    "def generar_vecina(solucion_actual):\n",
    "    \"\"\"\n",
    "    Genera una solución vecina mediante un movimiento de vecindad aleatorio:\n",
    "    1. Inter-ruta (cambio de CD)\n",
    "    2. Intra-ruta (intercambio de tiendas en la misma ruta - Swap)\n",
    "    \"\"\"\n",
    "    solucion = [ruta[:] for ruta in solucion_actual]  # Copia profunda\n",
    "    movimiento = random.choice(['inter', 'intra'])\n",
    "    \n",
    "    if movimiento == 'inter':\n",
    "        # Mover una tienda de una ruta (CD) a otra (CD)\n",
    "        rutas_con_tiendas = [i for i, r in enumerate(solucion) if len(r) > 2]\n",
    "        if not rutas_con_tiendas: return solucion\n",
    "        \n",
    "        idx_ruta_origen = random.choice(rutas_con_tiendas)\n",
    "        ruta_origen = solucion[idx_ruta_origen]\n",
    "        \n",
    "        # Seleccionar una tienda para mover (índices 1 a len(ruta)-2)\n",
    "        idx_tienda_en_ruta = random.randint(1, len(ruta_origen) - 2)\n",
    "        tienda_movida = ruta_origen.pop(idx_tienda_en_ruta)\n",
    "        \n",
    "        idx_ruta_destino = random.choice(CD_INDICES)\n",
    "        ruta_destino = solucion[idx_ruta_destino]\n",
    "        \n",
    "        # Insertar la tienda en la ruta de destino (en una posición aleatoria válida)\n",
    "        if len(ruta_destino) < 2:\n",
    "             ruta_destino.insert(1, tienda_movida)\n",
    "        else:\n",
    "             idx_insercion = random.randint(1, len(ruta_destino) - 1)\n",
    "             ruta_destino.insert(idx_insercion, tienda_movida)\n",
    "             \n",
    "    elif movimiento == 'intra':\n",
    "        # Intercambiar dos tiendas DENTRO de la misma ruta (Swap)\n",
    "        rutas_elegibles = [i for i, r in enumerate(solucion) if len(r) >= 4]\n",
    "        if not rutas_elegibles: return solucion\n",
    "\n",
    "        idx_ruta = random.choice(rutas_elegibles)\n",
    "        ruta = solucion[idx_ruta]\n",
    "\n",
    "        idx1 = random.randint(1, len(ruta) - 2)\n",
    "        idx2 = random.randint(1, len(ruta) - 2)\n",
    "        \n",
    "        while idx1 == idx2:\n",
    "             idx2 = random.randint(1, len(ruta) - 2)\n",
    "\n",
    "        ruta[idx1], ruta[idx2] = ruta[idx2], ruta[idx1]\n",
    "\n",
    "    return solucion"
   ]
  },
  {
   "cell_type": "markdown",
   "id": "c13bcbd0",
   "metadata": {},
   "source": [
    "### 3.3 Recocido Simulado"
   ]
  },
  {
   "cell_type": "code",
   "execution_count": 8,
   "id": "5ed3826d",
   "metadata": {},
   "outputs": [],
   "source": [
    "\n",
    "\n",
    "def recocido_simulado(T_inicial, T_final, alpha, max_iteraciones_T):\n",
    "    \"\"\"\n",
    "    Implementación principal del algoritmo de Recocido Simulado.\n",
    "    \"\"\"\n",
    "    S_actual = generar_solucion_inicial()\n",
    "    costo_actual = calcular_costo_solucion(S_actual)\n",
    "    \n",
    "    S_mejor = [ruta[:] for ruta in S_actual]\n",
    "    costo_mejor = costo_actual\n",
    "    \n",
    "    T = T_inicial\n",
    "    costo_inicial_global = costo_actual \n",
    "\n",
    "    print(\"Iniciando Recocido Simulado...\")\n",
    "    print(f\"Costo inicial: {costo_actual:.2f}\")\n",
    "\n",
    "    while T > T_final:\n",
    "        for _ in range(max_iteraciones_T):\n",
    "            S_vecina = generar_vecina(S_actual)\n",
    "            costo_vecina = calcular_costo_solucion(S_vecina)\n",
    "            \n",
    "            delta_E = costo_vecina - costo_actual\n",
    "            \n",
    "            if delta_E < 0:\n",
    "                # Aceptar solución mejor\n",
    "                S_actual = S_vecina\n",
    "                costo_actual = costo_vecina\n",
    "                \n",
    "                if costo_actual < costo_mejor:\n",
    "                    S_mejor = [ruta[:] for ruta in S_actual]\n",
    "                    costo_mejor = costo_actual\n",
    "            else:\n",
    "                # Aceptar solución peor (criterio de Metropolis)\n",
    "                try:\n",
    "                    probabilidad_aceptacion = math.exp(-delta_E / T)\n",
    "                except OverflowError:\n",
    "                    probabilidad_aceptacion = 0.0\n",
    "\n",
    "                if random.random() < probabilidad_aceptacion:\n",
    "                    S_actual = S_vecina\n",
    "                    costo_actual = costo_vecina\n",
    "        \n",
    "        # Aplicar esquema de enfriamiento (Geométrico)\n",
    "        T *= alpha\n",
    "        \n",
    "    print(\"Recocido Simulado finalizado.\")\n",
    "    return S_mejor, costo_mejor, costo_inicial_global"
   ]
  },
  {
   "cell_type": "markdown",
   "id": "5ea092a9",
   "metadata": {},
   "source": [
    "## Paso 4: Ejecución y Resultados"
   ]
  },
  {
   "cell_type": "code",
   "execution_count": 13,
   "id": "592f1112",
   "metadata": {},
   "outputs": [
    {
     "name": "stdout",
     "output_type": "stream",
     "text": [
      "Iniciando Recocido Simulado...\n",
      "Costo inicial: 171.78\n",
      "Recocido Simulado finalizado.\n",
      "\n",
      "==================================================\n",
      "           RESUMEN DE EJECUCIÓN DEL MDVRP\n",
      "==================================================\n",
      "Costo de la solución inicial (Generada Aleatoriamente): 171.78\n",
      "Costo de la solución óptima encontrada (Recocido Simulado): 91.57\n",
      "Mejora: 46.70%\n",
      "\n",
      "Detalle de Rutas y Costos (Guardado en solucion_optima_mdvrp_recocido_simulado.csv):\n",
      "                 CD_Asignado  Costo_Total_Ruta  Distancia_Total_Km\n",
      "0   Centro de Distribución 4         47.935802          319.572014\n",
      "1   Centro de Distribución 6          0.991543            6.610288\n",
      "2   Centro de Distribución 8         18.796424          125.309490\n",
      "3   Centro de Distribución 9          6.011340           40.075601\n",
      "4  Centro de Distribución 10         17.830125          118.867497\n"
     ]
    }
   ],
   "source": [
    "# Parámetros del Recocido Simulado \n",
    "T_INICIAL = 1000.0\n",
    "ALPHA = 0.995\n",
    "T_FINAL = 1.0\n",
    "MAX_ITERACIONES_T = 100\n",
    "\n",
    "# Ejecutar el Recocido Simulado\n",
    "solucion_final, costo_final, costo_inicial = recocido_simulado(T_INICIAL, T_FINAL, ALPHA, MAX_ITERACIONES_T)\n",
    "\n",
    "# Preparación de Resultados para el Reporte\n",
    "resultados = []\n",
    "for i, ruta in enumerate(solucion_final):\n",
    "    if len(ruta) > 2:\n",
    "        costo_ruta = calcular_costo_solucion([ruta])\n",
    "        \n",
    "        # Obtener nombres de los nodos\n",
    "        nodos_ruta = [df_nodos.iloc[nodo]['Nombre'] for nodo in ruta]\n",
    "        \n",
    "        # Calcular distancia total de la ruta (para reporte de eficiencia en km)\n",
    "        distancia_total_ruta = 0.0\n",
    "        matriz_distancias = df_distancias[columnas_datos].values\n",
    "        for k in range(len(ruta) - 1):\n",
    "            nodo_inicio = ruta[k]\n",
    "            nodo_fin = ruta[k+1]\n",
    "            distancia_total_ruta += matriz_distancias[nodo_inicio, nodo_fin]\n",
    "\n",
    "        resultados.append({\n",
    "            'CD_Asignado': df_nodos.iloc[ruta[0]]['Nombre'],\n",
    "            'Costo_Total_Ruta': costo_ruta,\n",
    "            'Distancia_Total_Km': distancia_total_ruta,\n",
    "            'Ruta_Secuencia': ' -> '.join(nodos_ruta)\n",
    "        })\n",
    "\n",
    "df_resultados = pd.DataFrame(resultados)\n",
    "nombre_archivo_salida = \"solucion_optima_mdvrp_recocido_simulado.csv\"\n",
    "df_resultados.to_csv(nombre_archivo_salida, index=False)\n",
    "\n",
    "# Imprimir Resumen\n",
    "print(\"\\n\" + \"=\"*50)\n",
    "print(\"           RESUMEN DE EJECUCIÓN DEL MDVRP\")\n",
    "print(\"=\"*50)\n",
    "print(f\"Costo de la solución inicial (Generada Aleatoriamente): {costo_inicial:.2f}\")\n",
    "print(f\"Costo de la solución óptima encontrada (Recocido Simulado): {costo_final:.2f}\")\n",
    "print(f\"Mejora: {((costo_inicial - costo_final) / costo_inicial) * 100:.2f}%\")\n",
    "\n",
    "print(f\"\\nDetalle de Rutas y Costos (Guardado en {nombre_archivo_salida}):\")\n",
    "print(df_resultados[['CD_Asignado', 'Costo_Total_Ruta', 'Distancia_Total_Km']].head())"
   ]
  }
 ],
 "metadata": {
  "kernelspec": {
   "display_name": "Python 3",
   "language": "python",
   "name": "python3"
  },
  "language_info": {
   "codemirror_mode": {
    "name": "ipython",
    "version": 3
   },
   "file_extension": ".py",
   "mimetype": "text/x-python",
   "name": "python",
   "nbconvert_exporter": "python",
   "pygments_lexer": "ipython3",
   "version": "3.12.10"
  }
 },
 "nbformat": 4,
 "nbformat_minor": 5
}
