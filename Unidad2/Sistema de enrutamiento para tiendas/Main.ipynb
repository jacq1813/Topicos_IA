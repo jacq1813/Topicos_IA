{
 "cells": [
  {
   "cell_type": "markdown",
   "id": "a167cccb",
   "metadata": {},
   "source": [
    "## Pasos para la implementacion y uso del algoritmo Recocido Simulado para VRP"
   ]
  },
  {
   "cell_type": "markdown",
   "id": "d49257c7",
   "metadata": {},
   "source": [
    "### Paso 1: Representacion de Datos con Pandas\n",
    "\n",
    "El primer paso es cargar y organizar los datos para que el algoritmo pueda acceder a ellos de manera eficiente\n",
    "\n",
    "Elementos a extraer:\n",
    "- datos_distribucion_tiendas.csv (Nodos: 10 CD y 80 Tiendas) (Lista de Nodos/Clientes con sus atributos. Demanda y Capacidad).\n",
    "- matriz_distancias.csv (Distancia entre cada par de nodos) (Matriz NxN de Distancias que serian sus costos).\n",
    "- matriz_costos_combustible.csv (Costos de combustible entre cada par de nodos) (Matriz NxN de Costos de Combustible que serian sus costos)."
   ]
  }
 ],
 "metadata": {
  "language_info": {
   "name": "python"
  }
 },
 "nbformat": 4,
 "nbformat_minor": 5
}
